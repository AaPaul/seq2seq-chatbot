{
  "nbformat": 4,
  "nbformat_minor": 0,
  "metadata": {
    "colab": {
      "name": "5180Project.ipynb",
      "provenance": [],
      "collapsed_sections": []
    },
    "kernelspec": {
      "name": "python3",
      "display_name": "Python 3"
    },
    "language_info": {
      "name": "python"
    }
  },
  "cells": [
    {
      "cell_type": "markdown",
      "metadata": {
        "id": "H1JU2ybWghro"
      },
      "source": [
        "## Data downloading and preprocessing"
      ]
    },
    {
      "cell_type": "code",
      "metadata": {
        "id": "TuiCK3soYJK-",
        "colab": {
          "base_uri": "https://localhost:8080/"
        },
        "outputId": "023f3d67-15fb-45de-da85-4a6ff612677a"
      },
      "source": [
        "!git clone https://github.com/codemayq/chinese_chatbot_corpus.git"
      ],
      "execution_count": null,
      "outputs": [
        {
          "output_type": "stream",
          "text": [
            "Cloning into 'chinese_chatbot_corpus'...\n",
            "remote: Enumerating objects: 3, done.\u001b[K\n",
            "remote: Counting objects:  33% (1/3)\u001b[K\rremote: Counting objects:  66% (2/3)\u001b[K\rremote: Counting objects: 100% (3/3)\u001b[K\rremote: Counting objects: 100% (3/3), done.\u001b[K\n",
            "remote: Compressing objects:  33% (1/3)\u001b[K\rremote: Compressing objects:  66% (2/3)\u001b[K\rremote: Compressing objects: 100% (3/3)\u001b[K\rremote: Compressing objects: 100% (3/3), done.\u001b[K\n",
            "Unpacking objects:   1% (1/75)   \rUnpacking objects:   2% (2/75)   \rUnpacking objects:   4% (3/75)   \rUnpacking objects:   5% (4/75)   \rUnpacking objects:   6% (5/75)   \rUnpacking objects:   8% (6/75)   \rUnpacking objects:   9% (7/75)   \rUnpacking objects:  10% (8/75)   \rUnpacking objects:  12% (9/75)   \rUnpacking objects:  13% (10/75)   \rUnpacking objects:  14% (11/75)   \rUnpacking objects:  16% (12/75)   \rUnpacking objects:  17% (13/75)   \rUnpacking objects:  18% (14/75)   \rUnpacking objects:  20% (15/75)   \rUnpacking objects:  21% (16/75)   \rUnpacking objects:  22% (17/75)   \rUnpacking objects:  24% (18/75)   \rUnpacking objects:  25% (19/75)   \rUnpacking objects:  26% (20/75)   \rUnpacking objects:  28% (21/75)   \rUnpacking objects:  29% (22/75)   \rUnpacking objects:  30% (23/75)   \rUnpacking objects:  32% (24/75)   \rUnpacking objects:  33% (25/75)   \rUnpacking objects:  34% (26/75)   \rUnpacking objects:  36% (27/75)   \rUnpacking objects:  37% (28/75)   \rUnpacking objects:  38% (29/75)   \rUnpacking objects:  40% (30/75)   \rUnpacking objects:  41% (31/75)   \rUnpacking objects:  42% (32/75)   \rUnpacking objects:  44% (33/75)   \rUnpacking objects:  45% (34/75)   \rUnpacking objects:  46% (35/75)   \rUnpacking objects:  48% (36/75)   \rUnpacking objects:  49% (37/75)   \rUnpacking objects:  50% (38/75)   \rUnpacking objects:  52% (39/75)   \rUnpacking objects:  53% (40/75)   \rUnpacking objects:  54% (41/75)   \rUnpacking objects:  56% (42/75)   \rUnpacking objects:  57% (43/75)   \rremote: Total 75 (delta 0), reused 0 (delta 0), pack-reused 72\u001b[K\n",
            "Unpacking objects:  58% (44/75)   \rUnpacking objects:  60% (45/75)   \rUnpacking objects:  61% (46/75)   \rUnpacking objects:  62% (47/75)   \rUnpacking objects:  64% (48/75)   \rUnpacking objects:  65% (49/75)   \rUnpacking objects:  66% (50/75)   \rUnpacking objects:  68% (51/75)   \rUnpacking objects:  69% (52/75)   \rUnpacking objects:  70% (53/75)   \rUnpacking objects:  72% (54/75)   \rUnpacking objects:  73% (55/75)   \rUnpacking objects:  74% (56/75)   \rUnpacking objects:  76% (57/75)   \rUnpacking objects:  77% (58/75)   \rUnpacking objects:  78% (59/75)   \rUnpacking objects:  80% (60/75)   \rUnpacking objects:  81% (61/75)   \rUnpacking objects:  82% (62/75)   \rUnpacking objects:  84% (63/75)   \rUnpacking objects:  85% (64/75)   \rUnpacking objects:  86% (65/75)   \rUnpacking objects:  88% (66/75)   \rUnpacking objects:  89% (67/75)   \rUnpacking objects:  90% (68/75)   \rUnpacking objects:  92% (69/75)   \rUnpacking objects:  93% (70/75)   \rUnpacking objects:  94% (71/75)   \rUnpacking objects:  96% (72/75)   \rUnpacking objects:  97% (73/75)   \rUnpacking objects:  98% (74/75)   \rUnpacking objects: 100% (75/75)   \rUnpacking objects: 100% (75/75), done.\n"
          ],
          "name": "stdout"
        }
      ]
    },
    {
      "cell_type": "markdown",
      "metadata": {
        "id": "X3f1wV8Qf0UI"
      },
      "source": [
        "Create raw_chat_corpus/douban-multiturn-100w folder \\\n",
        "and then copy the data into the folder"
      ]
    },
    {
      "cell_type": "code",
      "metadata": {
        "id": "IAyJd_1Rfzxr"
      },
      "source": [
        "# %cp /content/drive/MyDrive/csi5380/train.txt /content/chinese_chatbot_corpus/raw_chat_corpus/douban-multiturn-100w\n",
        "# %cp /content/drive/MyDrive/csi5380/dev.txt /content/chinese_chatbot_corpus/raw_chat_corpus/douban-multiturn-100w\n",
        "# %cp /content/drive/MyDrive/csi5380/test.txt /content/chinese_chatbot_corpus/raw_chat_corpus/douban-multiturn-100w"
      ],
      "execution_count": null,
      "outputs": []
    },
    {
      "cell_type": "code",
      "metadata": {
        "colab": {
          "base_uri": "https://localhost:8080/"
        },
        "id": "GCLaHCG_fXaf",
        "outputId": "8b10a3da-824d-4a44-c82e-f805f2e32b29"
      },
      "source": [
        "!python main.py"
      ],
      "execution_count": null,
      "outputs": [
        {
          "output_type": "stream",
          "text": [
            "douban_process_pipeline\n",
            "train\n",
            "raw_chat_corpus/douban-multiturn-100w/train.txt 0\n",
            "raw_chat_corpus/douban-multiturn-100w/train.txt 100000\n",
            "raw_chat_corpus/douban-multiturn-100w/train.txt 200000\n",
            "raw_chat_corpus/douban-multiturn-100w/train.txt 300000\n",
            "raw_chat_corpus/douban-multiturn-100w/train.txt 400000\n",
            "raw_chat_corpus/douban-multiturn-100w/train.txt 500000\n",
            "raw_chat_corpus/douban-multiturn-100w/train.txt 600000\n",
            "raw_chat_corpus/douban-multiturn-100w/train.txt 700000\n",
            "raw_chat_corpus/douban-multiturn-100w/train.txt 800000\n",
            "raw_chat_corpus/douban-multiturn-100w/train.txt 900000\n",
            "avg session length 7.6944\n",
            "dev\n",
            "raw_chat_corpus/douban-multiturn-100w/dev.txt 0\n",
            "avg session length 7.751089956401744\n",
            "test\n",
            "raw_chat_corpus/douban-multiturn-100w/test.txt 0\n",
            "avg session length 7.1096121416526135\n"
          ],
          "name": "stdout"
        }
      ]
    },
    {
      "cell_type": "markdown",
      "metadata": {
        "id": "J33OIcwYd0pn"
      },
      "source": [
        "Traing data"
      ]
    },
    {
      "cell_type": "code",
      "metadata": {
        "id": "f8XCIGK6yeEa"
      },
      "source": [
        ""
      ],
      "execution_count": null,
      "outputs": []
    },
    {
      "cell_type": "code",
      "metadata": {
        "id": "_Z7MzeS_yeP5"
      },
      "source": [
        ""
      ],
      "execution_count": null,
      "outputs": []
    },
    {
      "cell_type": "code",
      "metadata": {
        "id": "2WEoJjhYyeX2"
      },
      "source": [
        ""
      ],
      "execution_count": null,
      "outputs": []
    },
    {
      "cell_type": "code",
      "metadata": {
        "id": "KQZV2pvcyegO"
      },
      "source": [
        ""
      ],
      "execution_count": null,
      "outputs": []
    },
    {
      "cell_type": "code",
      "metadata": {
        "id": "Do2kgsFWyene"
      },
      "source": [
        ""
      ],
      "execution_count": null,
      "outputs": []
    },
    {
      "cell_type": "code",
      "metadata": {
        "id": "K4JJVsG1yetk"
      },
      "source": [
        ""
      ],
      "execution_count": null,
      "outputs": []
    },
    {
      "cell_type": "markdown",
      "metadata": {
        "id": "Ape64m_Gd002"
      },
      "source": [
        "Test for another repo"
      ]
    },
    {
      "cell_type": "code",
      "metadata": {
        "id": "pGCEJfzJggOy"
      },
      "source": [
        ""
      ],
      "execution_count": null,
      "outputs": []
    },
    {
      "cell_type": "code",
      "metadata": {
        "colab": {
          "base_uri": "https://localhost:8080/"
        },
        "id": "iGsXsblYX-1m",
        "outputId": "92041574-ef67-4713-8b09-7c64dad57200"
      },
      "source": [
        "\n",
        "!git clone https://github.com/zhaoyingjun/chatbot.git"
      ],
      "execution_count": null,
      "outputs": [
        {
          "output_type": "stream",
          "text": [
            "Cloning into 'chatbot'...\n",
            "remote: Enumerating objects: 143, done.\u001b[K\n",
            "remote: Counting objects: 100% (143/143), done.\u001b[K\n",
            "remote: Compressing objects: 100% (106/106), done.\u001b[K\n",
            "remote: Total 341 (delta 47), reused 91 (delta 16), pack-reused 198\u001b[K\n",
            "Receiving objects: 100% (341/341), 68.79 MiB | 34.94 MiB/s, done.\n",
            "Resolving deltas: 100% (113/113), done.\n"
          ],
          "name": "stdout"
        }
      ]
    },
    {
      "cell_type": "code",
      "metadata": {
        "id": "GIO6Ma3bn9jq"
      },
      "source": [
        "!python data_utls.py"
      ],
      "execution_count": null,
      "outputs": []
    },
    {
      "cell_type": "code",
      "metadata": {
        "id": "W5KC6AtrrXvn"
      },
      "source": [
        "!python execute.py"
      ],
      "execution_count": null,
      "outputs": []
    }
  ]
}